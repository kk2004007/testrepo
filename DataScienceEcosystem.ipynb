{
 "cells": [
  {
   "cell_type": "markdown",
   "id": "a09b6ac5",
   "metadata": {},
   "source": [
    "# Data Science Tools and Ecosystem"
   ]
  },
  {
   "cell_type": "markdown",
   "id": "5bd9bb82",
   "metadata": {},
   "source": [
    "## Author\n",
    "Karthikeya Kakarlapudi"
   ]
  },
  {
   "cell_type": "markdown",
   "id": "8e10d9cd",
   "metadata": {},
   "source": [
    "## In this notebook, Data Science Tools and Ecosystem are summarized."
   ]
  },
  {
   "cell_type": "markdown",
   "id": "37bcd62f",
   "metadata": {},
   "source": [
    "## **Objectives:**\n",
    "- List popular languages in data science\n",
    "- List commonly used libraries in data science\n",
    "- List commonly used data science tools"
   ]
  },
  {
   "cell_type": "markdown",
   "id": "96cc5ebd",
   "metadata": {},
   "source": [
    "Some of the popular languages that Data Scientists use are:\n",
    "1. Python\n",
    "2. R\n",
    "3. SQL\n",
    "4. MATLAB"
   ]
  },
  {
   "cell_type": "markdown",
   "id": "dbfa4a36",
   "metadata": {},
   "source": [
    "Some of the commonly used libraries used by Data Scientists include:   \n",
    "1. Pandas\n",
    "2. NumPy\n",
    "3. Matplotlib\n",
    "4. scikit-learn"
   ]
  },
  {
   "cell_type": "markdown",
   "id": "94ad1bca",
   "metadata": {},
   "source": [
    "|Data Science Tools|\n",
    "|------------------|\n",
    "|Apache Spark|\n",
    "|Apache Hadoop|\n",
    "|MongoDB|"
   ]
  },
  {
   "cell_type": "markdown",
   "id": "3315aed5",
   "metadata": {},
   "source": [
    "### Below are a few examples of evaluating arithmetic expressions in Python"
   ]
  },
  {
   "cell_type": "code",
   "execution_count": 6,
   "id": "3417297b",
   "metadata": {},
   "outputs": [
    {
     "data": {
      "text/plain": [
       "17"
      ]
     },
     "execution_count": 6,
     "metadata": {},
     "output_type": "execute_result"
    }
   ],
   "source": [
    "(3*4)+5\n",
    "# This a simple arithmetic expression to mutiply then add integers"
   ]
  },
  {
   "cell_type": "code",
   "execution_count": 8,
   "id": "34ec9f4f",
   "metadata": {},
   "outputs": [
    {
     "data": {
      "text/plain": [
       "3.3333333333333335"
      ]
     },
     "execution_count": 8,
     "metadata": {},
     "output_type": "execute_result"
    }
   ],
   "source": [
    "200/60\n",
    "# This will convert 200 minutes to hours by diving by 60"
   ]
  },
  {
   "cell_type": "code",
   "execution_count": null,
   "id": "c036796a",
   "metadata": {},
   "outputs": [],
   "source": []
  }
 ],
 "metadata": {
  "kernelspec": {
   "display_name": "Python 3 (ipykernel)",
   "language": "python",
   "name": "python3"
  },
  "language_info": {
   "codemirror_mode": {
    "name": "ipython",
    "version": 3
   },
   "file_extension": ".py",
   "mimetype": "text/x-python",
   "name": "python",
   "nbconvert_exporter": "python",
   "pygments_lexer": "ipython3",
   "version": "3.11.5"
  }
 },
 "nbformat": 4,
 "nbformat_minor": 5
}
